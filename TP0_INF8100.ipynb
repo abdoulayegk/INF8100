{
 "cells": [
  {
   "cell_type": "markdown",
   "id": "39fc23f9-4843-4bdc-bf24-b55786c86989",
   "metadata": {},
   "source": [
    "# importantion des library"
   ]
  },
  {
   "cell_type": "code",
   "execution_count": 1,
   "id": "d3c6843a-1f57-499b-b686-7d68ff90a88a",
   "metadata": {},
   "outputs": [],
   "source": [
    "import warnings\n",
    "\n",
    "import matplotlib.pyplot as plt\n",
    "import numpy as np\n",
    "import pandas as pd\n",
    "from scipy import stats\n",
    "\n",
    "warnings.filterwarnings(\"ignore\")"
   ]
  },
  {
   "cell_type": "markdown",
   "id": "31ff9b93-2024-4a7e-a95f-1a99e693e9fe",
   "metadata": {},
   "source": [
    "# Lecture du fichier *titanic.csv*"
   ]
  },
  {
   "cell_type": "code",
   "execution_count": 2,
   "id": "809bf753-35ed-4f66-a591-cdfc0c357cef",
   "metadata": {},
   "outputs": [],
   "source": [
    "def charger_et_preparer_donnees():\n",
    "    df = pd.read_csv(\"Titanic.csv\")\n",
    "    df.columns = [\n",
    "        \"age\",\n",
    "        \"classe_travail\",\n",
    "        \"education\",\n",
    "        \"nombre_education\",\n",
    "        \"etat_civil\",\n",
    "        \"occupation\",\n",
    "        \"Lien_parente\",\n",
    "        \"race\",\n",
    "        \"sexe\",\n",
    "        \"heures_par_semaine\",  # Corrected the dot to underscore\n",
    "        \"pays_natal\",\n",
    "        \"salaire\",\n",
    "    ]\n",
    "    # Créer l'échantillon (premiers 10%)\n",
    "    taille_echantillon = int(len(df) * 0.1)\n",
    "    df_echantillon = df.iloc[:taille_echantillon]\n",
    "    return df, df_echantillon"
   ]
  },
  {
   "cell_type": "markdown",
   "id": "c105ea24-08ed-4bc9-80df-73de341a0334",
   "metadata": {},
   "source": [
    "# Étude exploratoire (5 pts)"
   ]
  },
  {
   "cell_type": "code",
   "execution_count": 3,
   "id": "9b59ebab-949b-4d08-91f2-57c2e77ea43d",
   "metadata": {},
   "outputs": [
    {
     "data": {
      "text/html": [
       "<div>\n",
       "<style scoped>\n",
       "    .dataframe tbody tr th:only-of-type {\n",
       "        vertical-align: middle;\n",
       "    }\n",
       "\n",
       "    .dataframe tbody tr th {\n",
       "        vertical-align: top;\n",
       "    }\n",
       "\n",
       "    .dataframe thead th {\n",
       "        text-align: right;\n",
       "    }\n",
       "</style>\n",
       "<table border=\"1\" class=\"dataframe\">\n",
       "  <thead>\n",
       "    <tr style=\"text-align: right;\">\n",
       "      <th></th>\n",
       "      <th>age</th>\n",
       "      <th>classe_travail</th>\n",
       "      <th>education</th>\n",
       "      <th>nombre_education</th>\n",
       "      <th>etat_civil</th>\n",
       "      <th>occupation</th>\n",
       "      <th>Lien_parente</th>\n",
       "      <th>race</th>\n",
       "      <th>sexe</th>\n",
       "      <th>heures_par_semaine</th>\n",
       "      <th>pays_natal</th>\n",
       "      <th>salaire</th>\n",
       "    </tr>\n",
       "  </thead>\n",
       "  <tbody>\n",
       "    <tr>\n",
       "      <th>0</th>\n",
       "      <td>90</td>\n",
       "      <td>?</td>\n",
       "      <td>HS-grad</td>\n",
       "      <td>9</td>\n",
       "      <td>Veuf</td>\n",
       "      <td>?</td>\n",
       "      <td>Pas_dans_famille</td>\n",
       "      <td>Blanc</td>\n",
       "      <td>Feminin</td>\n",
       "      <td>40</td>\n",
       "      <td>United-States</td>\n",
       "      <td>&lt;=50K</td>\n",
       "    </tr>\n",
       "    <tr>\n",
       "      <th>1</th>\n",
       "      <td>82</td>\n",
       "      <td>Privee</td>\n",
       "      <td>HS-grad</td>\n",
       "      <td>9</td>\n",
       "      <td>Veuf</td>\n",
       "      <td>Exec-managerial</td>\n",
       "      <td>Pas_dans_famille</td>\n",
       "      <td>Blanc</td>\n",
       "      <td>Feminin</td>\n",
       "      <td>18</td>\n",
       "      <td>United-States</td>\n",
       "      <td>&lt;=50K</td>\n",
       "    </tr>\n",
       "    <tr>\n",
       "      <th>2</th>\n",
       "      <td>66</td>\n",
       "      <td>?</td>\n",
       "      <td>Some-college</td>\n",
       "      <td>10</td>\n",
       "      <td>Veuf</td>\n",
       "      <td>?</td>\n",
       "      <td>Celibataire</td>\n",
       "      <td>Noir</td>\n",
       "      <td>Feminin</td>\n",
       "      <td>40</td>\n",
       "      <td>United-States</td>\n",
       "      <td>&lt;=50K</td>\n",
       "    </tr>\n",
       "    <tr>\n",
       "      <th>3</th>\n",
       "      <td>54</td>\n",
       "      <td>Privee</td>\n",
       "      <td>7th-8th</td>\n",
       "      <td>4</td>\n",
       "      <td>Divorce</td>\n",
       "      <td>Machine-op-inspct</td>\n",
       "      <td>Celibataire</td>\n",
       "      <td>Blanc</td>\n",
       "      <td>Feminin</td>\n",
       "      <td>40</td>\n",
       "      <td>United-States</td>\n",
       "      <td>&lt;=50K</td>\n",
       "    </tr>\n",
       "    <tr>\n",
       "      <th>4</th>\n",
       "      <td>41</td>\n",
       "      <td>Privee</td>\n",
       "      <td>Some-college</td>\n",
       "      <td>10</td>\n",
       "      <td>Separe</td>\n",
       "      <td>Prof-specialty</td>\n",
       "      <td>Un_enfant</td>\n",
       "      <td>Blanc</td>\n",
       "      <td>Feminin</td>\n",
       "      <td>40</td>\n",
       "      <td>United-States</td>\n",
       "      <td>&lt;=50K</td>\n",
       "    </tr>\n",
       "  </tbody>\n",
       "</table>\n",
       "</div>"
      ],
      "text/plain": [
       "   age classe_travail     education  nombre_education etat_civil  \\\n",
       "0   90              ?       HS-grad                 9       Veuf   \n",
       "1   82         Privee       HS-grad                 9       Veuf   \n",
       "2   66              ?  Some-college                10       Veuf   \n",
       "3   54         Privee       7th-8th                 4    Divorce   \n",
       "4   41         Privee  Some-college                10     Separe   \n",
       "\n",
       "          occupation      Lien_parente   race     sexe  heures_par_semaine  \\\n",
       "0                  ?  Pas_dans_famille  Blanc  Feminin                  40   \n",
       "1    Exec-managerial  Pas_dans_famille  Blanc  Feminin                  18   \n",
       "2                  ?       Celibataire   Noir  Feminin                  40   \n",
       "3  Machine-op-inspct       Celibataire  Blanc  Feminin                  40   \n",
       "4     Prof-specialty         Un_enfant  Blanc  Feminin                  40   \n",
       "\n",
       "      pays_natal salaire  \n",
       "0  United-States   <=50K  \n",
       "1  United-States   <=50K  \n",
       "2  United-States   <=50K  \n",
       "3  United-States   <=50K  \n",
       "4  United-States   <=50K  "
      ]
     },
     "execution_count": 3,
     "metadata": {},
     "output_type": "execute_result"
    }
   ],
   "source": [
    "df, df_echantillon = charger_et_preparer_donnees()\n",
    "df.head()"
   ]
  },
  {
   "cell_type": "markdown",
   "id": "8f8b1645-421f-42df-ab7b-f9508b209c9a",
   "metadata": {},
   "source": [
    "**Note** Apres la lecture de donnee on voit un petit soucis avec les noms des colomns donc on va les traiter"
   ]
  },
  {
   "cell_type": "code",
   "execution_count": 4,
   "id": "3cb0e3a1-ba8e-4b6f-bd54-583fc1cd2c2c",
   "metadata": {},
   "outputs": [
    {
     "data": {
      "text/plain": [
       "(3256, 12)"
      ]
     },
     "execution_count": 4,
     "metadata": {},
     "output_type": "execute_result"
    }
   ],
   "source": [
    "df_echantillon.shape"
   ]
  },
  {
   "cell_type": "code",
   "execution_count": 5,
   "id": "5c0260c1-51ad-4207-8531-af438de975ab",
   "metadata": {},
   "outputs": [
    {
     "data": {
      "text/plain": [
       "(32561, 12)"
      ]
     },
     "execution_count": 5,
     "metadata": {},
     "output_type": "execute_result"
    }
   ],
   "source": [
    "df.shape"
   ]
  },
  {
   "cell_type": "markdown",
   "id": "3d25cd25-a33b-4936-992f-97f1c01fcb25",
   "metadata": {},
   "source": [
    "# 1. Combien de personnes travaillent-elles dans le privé ?"
   ]
  },
  {
   "cell_type": "code",
   "execution_count": 6,
   "id": "911ae79f-c870-4544-8214-911d7242e77f",
   "metadata": {},
   "outputs": [
    {
     "data": {
      "text/plain": [
       "22696"
      ]
     },
     "execution_count": 6,
     "metadata": {},
     "output_type": "execute_result"
    }
   ],
   "source": [
    "travail_privee = len(df[df[\"classe_travail\"] == \"Privee\"])\n",
    "\n",
    "travail_privee"
   ]
  },
  {
   "cell_type": "markdown",
   "id": "5d924cdf-653e-4556-b738-35b424b0e349",
   "metadata": {},
   "source": [
    "**Reponse:** il y'a 22696 personnes qui travaillent dans le prive."
   ]
  },
  {
   "cell_type": "markdown",
   "id": "a04a201c-9857-4657-b1d8-47516cc51fdd",
   "metadata": {},
   "source": [
    "# 2. Quels sont les pays d’origine des femmes dans ce jeux de données ?"
   ]
  },
  {
   "cell_type": "code",
   "execution_count": 7,
   "id": "56b76ee7-f544-4e08-b306-435403350168",
   "metadata": {},
   "outputs": [
    {
     "name": "stdout",
     "output_type": "stream",
     "text": [
      "\n",
      "2. Pays d'origine des femmes:\n",
      "['United-States' '?' 'Trinadad&Tobago' 'Philippines' 'Canada'\n",
      " 'Holand-Netherlands' 'Honduras' 'South' 'Hungary' 'Mexico' 'Taiwan'\n",
      " 'Cambodia' 'Columbia' 'Guatemala' 'Japan' 'Cuba' 'Puerto-Rico'\n",
      " 'Dominican-Republic' 'England' 'Germany' 'Iran' 'France' 'Scotland'\n",
      " 'Portugal' 'Nicaragua' 'El-Salvador' 'Italy' 'Ecuador' 'Peru' 'India'\n",
      " 'Jamaica' 'Laos' 'Poland' 'China' 'Outlying-US(Guam-USVI-etc)' 'Haiti'\n",
      " 'Hong' 'Vietnam' 'Ireland' 'Yugoslavia' 'Greece' 'Thailand']\n"
     ]
    }
   ],
   "source": [
    "# 2. Pays d'origine des femmes\n",
    "pays_femmes = df[df[\"sexe\"] == \"Feminin\"][\"pays_natal\"].unique()\n",
    "print(f\"\\n2. Pays d'origine des femmes:\\n{pays_femmes}\")"
   ]
  },
  {
   "cell_type": "markdown",
   "id": "3ccb1af2-54ed-4e0b-af42-7c0dc4617500",
   "metadata": {},
   "source": [
    "# 3. Quel est le pourcentage d’hommes ayant un niveau éducatif HS-grad ?"
   ]
  },
  {
   "cell_type": "code",
   "execution_count": 8,
   "id": "52a72706-d90e-41f1-98f9-b7ffc07b4fd4",
   "metadata": {},
   "outputs": [
    {
     "name": "stdout",
     "output_type": "stream",
     "text": [
      "Le pourcentage d'hommes ayant un niveau éducatif HS-grades est: 32.634235888022026\n"
     ]
    }
   ],
   "source": [
    "total_hommes = len(df[df[\"sexe\"] == \"Masculin\"])\n",
    "pourcentage_homme = (\n",
    "    len(df[(df[\"sexe\"] == \"Masculin\") & (df[\"education\"] == \"HS-grad\")]) / total_hommes\n",
    ")\n",
    "\n",
    "print(\n",
    "    f\"Le pourcentage d'hommes ayant un niveau éducatif HS-grades est: {pourcentage_homme * 100}\"\n",
    ")"
   ]
  },
  {
   "cell_type": "markdown",
   "id": "8c0d6447-6883-4131-bb8e-17d24a970c25",
   "metadata": {},
   "source": [
    "# 4. Quelles sont les attributs pour lesquels manquent de valeurs ? Combien de valeurs manquent par attribut ?"
   ]
  },
  {
   "cell_type": "code",
   "execution_count": 9,
   "id": "ce18a473-00ec-4330-8423-8944b9681e7b",
   "metadata": {
    "scrolled": true
   },
   "outputs": [
    {
     "name": "stdout",
     "output_type": "stream",
     "text": [
      "\n",
      "4. Valeurs manquantes par attribut:\n",
      "classe_travail    1836\n",
      "occupation        1843\n",
      "pays_natal         583\n",
      "dtype: int64\n",
      "\n",
      "Attribut avec le plus de valeurs manquantes: occupation\n",
      "Attribut avec le moins de valeurs manquantes (>0): 583\n"
     ]
    }
   ],
   "source": [
    "valeurs_manquantes = df.isin([\"?\"]).sum()\n",
    "valeurs_manquantes = valeurs_manquantes[valeurs_manquantes > 0]\n",
    "print(\"\\n4. Valeurs manquantes par attribut:\")\n",
    "print(valeurs_manquantes)\n",
    "print(f\"\\nAttribut avec le plus de valeurs manquantes: {valeurs_manquantes.idxmax()}\")\n",
    "print(\n",
    "    f\"Attribut avec le moins de valeurs manquantes (>0): {valeurs_manquantes[valeurs_manquantes > 0].min()}\"\n",
    ")"
   ]
  },
  {
   "cell_type": "code",
   "execution_count": 10,
   "id": "0fee83de-18ea-4b5a-850e-3853c2b09ce7",
   "metadata": {},
   "outputs": [],
   "source": [
    "df.replace(\"?\", np.nan, inplace=True)\n",
    "df_echantillon.replace(\"?\", np.nan, inplace=True)"
   ]
  },
  {
   "cell_type": "code",
   "execution_count": 11,
   "id": "2f5af9ba-26fd-4b79-8487-ff96a75cfee0",
   "metadata": {
    "scrolled": true
   },
   "outputs": [
    {
     "data": {
      "text/plain": [
       "age                      0\n",
       "classe_travail        1836\n",
       "education                0\n",
       "nombre_education         0\n",
       "etat_civil               0\n",
       "occupation            1843\n",
       "Lien_parente             0\n",
       "race                     0\n",
       "sexe                     0\n",
       "heures_par_semaine       0\n",
       "pays_natal             583\n",
       "salaire                  0\n",
       "dtype: int64"
      ]
     },
     "execution_count": 11,
     "metadata": {},
     "output_type": "execute_result"
    }
   ],
   "source": [
    "df.isna().sum()"
   ]
  },
  {
   "cell_type": "markdown",
   "id": "14742692-a65b-4b73-bfa3-081c6de2da70",
   "metadata": {},
   "source": [
    "# Les colonnes avec valeurs manquantes\n",
    "1. classe_travail avec **1836** valeurs manquantes \n",
    "2. occupation avec **1843** valeurs manquantes\n",
    "3. pays-natal avec **583** valeurs manquantes\n",
    "\n",
    "## Quels attributs ont le nombre de valeurs manquantes maximal ? Et minimal (mais > 0) ?\n",
    "\n",
    "### L'attribut avec le nombre maximal des valeurs manquantes est: *Ocupation*\n",
    "\n",
    "### L'attribut avec le nombre minimal des valeurs manquantes est: *pays-natal*"
   ]
  },
  {
   "cell_type": "markdown",
   "id": "a2dda63a-aed9-461a-a54a-e8f5859ccc17",
   "metadata": {},
   "source": [
    "# 5. Quelles sont les valeurs la plus élevée et la moins élevée de l’attribut nombre d’années d’éducation"
   ]
  },
  {
   "cell_type": "code",
   "execution_count": 12,
   "id": "8a7c5bc3-bc0d-4271-b91c-d18de5b8b002",
   "metadata": {},
   "outputs": [
    {
     "name": "stdout",
     "output_type": "stream",
     "text": [
      " La valeur maximal est: 16\n",
      " La valeur minimal est: 1\n"
     ]
    }
   ],
   "source": [
    "max_valeur = df.iloc[:, 3].max()\n",
    "min_valeur = df.iloc[:, 3].min()\n",
    "print(f\" La valeur maximal est: {max_valeur}\")\n",
    "print(f\" La valeur minimal est: {min_valeur}\")"
   ]
  },
  {
   "cell_type": "markdown",
   "id": "549c8faf-603a-4988-974d-7d9147281a28",
   "metadata": {},
   "source": [
    "# Statistiques et probabilités (22 pts)\n",
    "Pour la suite, nous considérons le jeux de données complet ainsi qu’un échantillon dont la taille est 10% de la taille <br>\n",
    "complète (3256 lignes). Pour des raisons de déterminisme, on prendra les premiers 10% des enregistrements (lignes 1\n",
    "à 3256)."
   ]
  },
  {
   "cell_type": "code",
   "execution_count": 13,
   "id": "28dad6ee-cebc-4a5d-a952-cef5a29a4bba",
   "metadata": {},
   "outputs": [
    {
     "data": {
      "text/plain": [
       "(3256, 12)"
      ]
     },
     "execution_count": 13,
     "metadata": {},
     "output_type": "execute_result"
    }
   ],
   "source": [
    "df_echantillon.shape"
   ]
  },
  {
   "cell_type": "code",
   "execution_count": 14,
   "id": "b3e51137-b4cd-4c1e-8f67-a9ac66d77e64",
   "metadata": {},
   "outputs": [
    {
     "data": {
      "text/html": [
       "<div>\n",
       "<style scoped>\n",
       "    .dataframe tbody tr th:only-of-type {\n",
       "        vertical-align: middle;\n",
       "    }\n",
       "\n",
       "    .dataframe tbody tr th {\n",
       "        vertical-align: top;\n",
       "    }\n",
       "\n",
       "    .dataframe thead th {\n",
       "        text-align: right;\n",
       "    }\n",
       "</style>\n",
       "<table border=\"1\" class=\"dataframe\">\n",
       "  <thead>\n",
       "    <tr style=\"text-align: right;\">\n",
       "      <th></th>\n",
       "      <th>age</th>\n",
       "      <th>classe_travail</th>\n",
       "      <th>education</th>\n",
       "      <th>nombre_education</th>\n",
       "      <th>etat_civil</th>\n",
       "      <th>occupation</th>\n",
       "      <th>Lien_parente</th>\n",
       "      <th>race</th>\n",
       "      <th>sexe</th>\n",
       "      <th>heures_par_semaine</th>\n",
       "      <th>pays_natal</th>\n",
       "      <th>salaire</th>\n",
       "    </tr>\n",
       "  </thead>\n",
       "  <tbody>\n",
       "    <tr>\n",
       "      <th>0</th>\n",
       "      <td>90</td>\n",
       "      <td>NaN</td>\n",
       "      <td>HS-grad</td>\n",
       "      <td>9</td>\n",
       "      <td>Veuf</td>\n",
       "      <td>NaN</td>\n",
       "      <td>Pas_dans_famille</td>\n",
       "      <td>Blanc</td>\n",
       "      <td>Feminin</td>\n",
       "      <td>40</td>\n",
       "      <td>United-States</td>\n",
       "      <td>&lt;=50K</td>\n",
       "    </tr>\n",
       "    <tr>\n",
       "      <th>1</th>\n",
       "      <td>82</td>\n",
       "      <td>Privee</td>\n",
       "      <td>HS-grad</td>\n",
       "      <td>9</td>\n",
       "      <td>Veuf</td>\n",
       "      <td>Exec-managerial</td>\n",
       "      <td>Pas_dans_famille</td>\n",
       "      <td>Blanc</td>\n",
       "      <td>Feminin</td>\n",
       "      <td>18</td>\n",
       "      <td>United-States</td>\n",
       "      <td>&lt;=50K</td>\n",
       "    </tr>\n",
       "    <tr>\n",
       "      <th>2</th>\n",
       "      <td>66</td>\n",
       "      <td>NaN</td>\n",
       "      <td>Some-college</td>\n",
       "      <td>10</td>\n",
       "      <td>Veuf</td>\n",
       "      <td>NaN</td>\n",
       "      <td>Celibataire</td>\n",
       "      <td>Noir</td>\n",
       "      <td>Feminin</td>\n",
       "      <td>40</td>\n",
       "      <td>United-States</td>\n",
       "      <td>&lt;=50K</td>\n",
       "    </tr>\n",
       "    <tr>\n",
       "      <th>3</th>\n",
       "      <td>54</td>\n",
       "      <td>Privee</td>\n",
       "      <td>7th-8th</td>\n",
       "      <td>4</td>\n",
       "      <td>Divorce</td>\n",
       "      <td>Machine-op-inspct</td>\n",
       "      <td>Celibataire</td>\n",
       "      <td>Blanc</td>\n",
       "      <td>Feminin</td>\n",
       "      <td>40</td>\n",
       "      <td>United-States</td>\n",
       "      <td>&lt;=50K</td>\n",
       "    </tr>\n",
       "    <tr>\n",
       "      <th>4</th>\n",
       "      <td>41</td>\n",
       "      <td>Privee</td>\n",
       "      <td>Some-college</td>\n",
       "      <td>10</td>\n",
       "      <td>Separe</td>\n",
       "      <td>Prof-specialty</td>\n",
       "      <td>Un_enfant</td>\n",
       "      <td>Blanc</td>\n",
       "      <td>Feminin</td>\n",
       "      <td>40</td>\n",
       "      <td>United-States</td>\n",
       "      <td>&lt;=50K</td>\n",
       "    </tr>\n",
       "  </tbody>\n",
       "</table>\n",
       "</div>"
      ],
      "text/plain": [
       "   age classe_travail     education  nombre_education etat_civil  \\\n",
       "0   90            NaN       HS-grad                 9       Veuf   \n",
       "1   82         Privee       HS-grad                 9       Veuf   \n",
       "2   66            NaN  Some-college                10       Veuf   \n",
       "3   54         Privee       7th-8th                 4    Divorce   \n",
       "4   41         Privee  Some-college                10     Separe   \n",
       "\n",
       "          occupation      Lien_parente   race     sexe  heures_par_semaine  \\\n",
       "0                NaN  Pas_dans_famille  Blanc  Feminin                  40   \n",
       "1    Exec-managerial  Pas_dans_famille  Blanc  Feminin                  18   \n",
       "2                NaN       Celibataire   Noir  Feminin                  40   \n",
       "3  Machine-op-inspct       Celibataire  Blanc  Feminin                  40   \n",
       "4     Prof-specialty         Un_enfant  Blanc  Feminin                  40   \n",
       "\n",
       "      pays_natal salaire  \n",
       "0  United-States   <=50K  \n",
       "1  United-States   <=50K  \n",
       "2  United-States   <=50K  \n",
       "3  United-States   <=50K  \n",
       "4  United-States   <=50K  "
      ]
     },
     "execution_count": 14,
     "metadata": {},
     "output_type": "execute_result"
    }
   ],
   "source": [
    "# visualisation de l'echantillon\n",
    "df_echantillon.head()"
   ]
  },
  {
   "cell_type": "markdown",
   "id": "77bc9398-64d9-49ba-a705-eec45af74cfa",
   "metadata": {},
   "source": [
    "# 1. Extraire les 3 valeurs du nombre d’années d’éducation les plus fréquentes. Correspondent-elles à un intervalle complet (ex. 8, 9 et 10) ?"
   ]
  },
  {
   "cell_type": "code",
   "execution_count": 15,
   "id": "e1a038f8-8e0b-4a69-a83e-862dfeb2cd2f",
   "metadata": {},
   "outputs": [
    {
     "data": {
      "text/plain": [
       "nombre_education\n",
       "13    845\n",
       "9     731\n",
       "10    552\n",
       "Name: count, dtype: int64"
      ]
     },
     "execution_count": 15,
     "metadata": {},
     "output_type": "execute_result"
    }
   ],
   "source": [
    "education_plus_frequent = df_echantillon.iloc[:, 3].value_counts()\n",
    "education_plus_frequent.head(3)"
   ]
  },
  {
   "cell_type": "markdown",
   "id": "4437533f-9ed5-41af-aa8f-bf19df175508",
   "metadata": {},
   "source": [
    "### Rep: Les trois valeurs les plus frequentes sur la colonnes *nombre_education* sont: 13,9,10, donc l'interval ne correspond pas a l'intervalle donnee ici."
   ]
  },
  {
   "cell_type": "markdown",
   "id": "47653f94-a3d5-4215-9daf-acd728bea881",
   "metadata": {},
   "source": [
    "# 2. Moyenne des nombre d’années d’éducation ? Et médiane ?"
   ]
  },
  {
   "cell_type": "code",
   "execution_count": 16,
   "id": "2c55a28f-75be-4f67-8ba5-3c7650df9d66",
   "metadata": {},
   "outputs": [
    {
     "name": "stdout",
     "output_type": "stream",
     "text": [
      "La moyenne de nombre d'annees d'education est: 11.430896805896806\n",
      "La mediane de nombre d'annees d'education est: 12.0\n"
     ]
    }
   ],
   "source": [
    "moyenne_nombre_annee_education = df_echantillon.iloc[:, 3].mean()\n",
    "\n",
    "mediane_nombre_annee_education = df_echantillon.iloc[:, 3].median()\n",
    "\n",
    "\n",
    "print(\n",
    "    f\"La moyenne de nombre d'annees d'education est: {moyenne_nombre_annee_education}\"\n",
    ")\n",
    "print(\n",
    "    f\"La mediane de nombre d'annees d'education est: {mediane_nombre_annee_education}\"\n",
    ")"
   ]
  },
  {
   "cell_type": "markdown",
   "id": "d848c21a-05ad-4f8d-a2b7-d48d82b90dae",
   "metadata": {},
   "source": [
    "# Quels pays ont les moyennes des âges de leurs ressortissants les plus élevées ?"
   ]
  },
  {
   "cell_type": "code",
   "execution_count": 17,
   "id": "63cab419-d252-4b03-bede-52c298d552bf",
   "metadata": {},
   "outputs": [
    {
     "name": "stdout",
     "output_type": "stream",
     "text": [
      "\n",
      "3. Pays avec les moyennes d'âge les plus élevées:\n",
      "pays_natal\n",
      "Ecuador               90.000000\n",
      "Hungary               69.000000\n",
      "Yugoslavia            66.000000\n",
      "Scotland              62.000000\n",
      "Jamaica               60.000000\n",
      "Columbia              57.000000\n",
      "Poland                50.750000\n",
      "Greece                50.000000\n",
      "China                 49.555556\n",
      "Trinadad&Tobago       49.500000\n",
      "France                49.000000\n",
      "Honduras              47.000000\n",
      "El-Salvador           46.000000\n",
      "Italy                 45.600000\n",
      "Guatemala             45.500000\n",
      "Germany               45.071429\n",
      "Vietnam               44.833333\n",
      "India                 44.533333\n",
      "Cuba                  44.000000\n",
      "Canada                43.882353\n",
      "United-States         43.559584\n",
      "Philippines           42.952381\n",
      "Iran                  42.875000\n",
      "Japan                 42.625000\n",
      "England               42.100000\n",
      "Puerto-Rico           42.000000\n",
      "Nicaragua             40.000000\n",
      "Hong                  40.000000\n",
      "South                 38.181818\n",
      "Mexico                38.062500\n",
      "Haiti                 37.000000\n",
      "Taiwan                34.666667\n",
      "Peru                  34.000000\n",
      "Holand-Netherlands    32.000000\n",
      "Cambodia              28.333333\n",
      "Ireland               27.500000\n",
      "Dominican-Republic    21.500000\n",
      "Name: age, dtype: float64\n"
     ]
    }
   ],
   "source": [
    "age_moyen_par_pays = (\n",
    "    df_echantillon.groupby(\"pays_natal\")[\"age\"].mean().sort_values(ascending=False)\n",
    ")\n",
    "print(\"\\n3. Pays avec les moyennes d'âge les plus élevées:\")\n",
    "print(age_moyen_par_pays)"
   ]
  },
  {
   "cell_type": "code",
   "execution_count": 18,
   "id": "24c2aecb-0779-4d42-8ddf-e4511e657029",
   "metadata": {},
   "outputs": [
    {
     "data": {
      "text/plain": [
       "pays_natal\n",
       "Ecuador               90.000000\n",
       "Hungary               69.000000\n",
       "Yugoslavia            66.000000\n",
       "Scotland              62.000000\n",
       "Jamaica               60.000000\n",
       "Columbia              57.000000\n",
       "Poland                50.750000\n",
       "Greece                50.000000\n",
       "China                 49.555556\n",
       "Trinadad&Tobago       49.500000\n",
       "France                49.000000\n",
       "Honduras              47.000000\n",
       "El-Salvador           46.000000\n",
       "Italy                 45.600000\n",
       "Guatemala             45.500000\n",
       "Germany               45.071429\n",
       "Vietnam               44.833333\n",
       "India                 44.533333\n",
       "Cuba                  44.000000\n",
       "Canada                43.882353\n",
       "United-States         43.559584\n",
       "Philippines           42.952381\n",
       "Iran                  42.875000\n",
       "Japan                 42.625000\n",
       "England               42.100000\n",
       "Puerto-Rico           42.000000\n",
       "Nicaragua             40.000000\n",
       "Hong                  40.000000\n",
       "South                 38.181818\n",
       "Mexico                38.062500\n",
       "Haiti                 37.000000\n",
       "Taiwan                34.666667\n",
       "Peru                  34.000000\n",
       "Holand-Netherlands    32.000000\n",
       "Cambodia              28.333333\n",
       "Ireland               27.500000\n",
       "Dominican-Republic    21.500000\n",
       "Name: age, dtype: float64"
      ]
     },
     "execution_count": 18,
     "metadata": {},
     "output_type": "execute_result"
    }
   ],
   "source": [
    "df_echantillon.groupby(\"pays_natal\")[\"age\"].mean().sort_values(ascending=False)"
   ]
  },
  {
   "cell_type": "markdown",
   "id": "b7e9b15c-cd0d-46fc-8aa0-9582d0bbf4db",
   "metadata": {},
   "source": [
    "# 4  Quelle % des femmes ayant une maîtrise ont un salaire >50K ? Quelle est ce % chez les hommes ?"
   ]
  },
  {
   "cell_type": "code",
   "execution_count": 19,
   "id": "4b19f868-9229-4354-a3fd-e96a4e3456f9",
   "metadata": {},
   "outputs": [
    {
     "name": "stdout",
     "output_type": "stream",
     "text": [
      "\n",
      "4. Pourcentage >50K avec maîtrise:\n",
      "Femmes: 33.40%\n",
      "Hommes: 65.71%\n"
     ]
    }
   ],
   "source": [
    "def calc_pourcentage_salaire(donnees, genre):\n",
    "    maitrise = donnees[(donnees[\"sexe\"] == genre) & (donnees[\"education\"] == \"Masters\")]\n",
    "    if len(maitrise) == 0:\n",
    "        return 0\n",
    "    return len(maitrise[maitrise[\"salaire\"] == \">50K\"]) / len(maitrise) * 100\n",
    "\n",
    "\n",
    "pct_femmes_maitrise = calc_pourcentage_salaire(df, \"Feminin\")\n",
    "pct_hommes_maitrise = calc_pourcentage_salaire(df, \"Masculin\")\n",
    "print(f\"\\n4. Pourcentage >50K avec maîtrise:\")\n",
    "print(f\"Femmes: {pct_femmes_maitrise:.2f}%\")\n",
    "print(f\"Hommes: {pct_hommes_maitrise:.2f}%\")"
   ]
  },
  {
   "cell_type": "markdown",
   "id": "b9681d5e-a2e7-4cb9-b192-75a96a5f1cd1",
   "metadata": {},
   "source": [
    "# 5. Quelle % des personnes ne vivant pas en famille ont un diplôme universitaire (baccalauréat, maîtrise ou doctorat) ?"
   ]
  },
  {
   "cell_type": "code",
   "execution_count": 20,
   "id": "474bb8dd-ed63-49a3-939d-db1caccfb75d",
   "metadata": {},
   "outputs": [
    {
     "name": "stdout",
     "output_type": "stream",
     "text": [
      "\n",
      "5. Pourcentage de personnes hors famille avec diplôme universitaire: 27.43%\n"
     ]
    }
   ],
   "source": [
    "# 5. Pourcentage de diplômés universitaires hors famille\n",
    "diplomes_univ = [\"Bachelors\", \"Masters\", \"Doctorate\"]\n",
    "hors_famille = df[df[\"Lien_parente\"] == \"Pas_dans_famille\"]\n",
    "pct_diplomes = (\n",
    "    len(hors_famille[hors_famille[\"education\"].isin(diplomes_univ)])\n",
    "    / len(hors_famille)\n",
    "    * 100\n",
    ")\n",
    "print(\n",
    "    f\"\\n5. Pourcentage de personnes hors famille avec diplôme universitaire: {pct_diplomes:.2f}%\"\n",
    ")"
   ]
  },
  {
   "cell_type": "markdown",
   "id": "574043e4-2d76-48eb-a6f1-04f2d9963ab4",
   "metadata": {},
   "source": [
    "# 6. Quelle race a la proportion la plus élevée de salaires ≤50K ? Qu’en est il pour la valeur >50K ?"
   ]
  },
  {
   "cell_type": "code",
   "execution_count": 21,
   "id": "0b6267ff-c78e-4d3f-bedb-120f3012227a",
   "metadata": {},
   "outputs": [
    {
     "name": "stdout",
     "output_type": "stream",
     "text": [
      "Race avec la proportion la plus élevée de salaires ≤50K (échantillon) : Autre (90.77%)\n",
      "Race avec la proportion la plus élevée de salaires >50K (échantillon) : Asiatique (26.56%)\n"
     ]
    }
   ],
   "source": [
    "def analyser_proportions_race(dataset):\n",
    "    \n",
    "    # Calcul des proportions pour salaires ≤50K\n",
    "    race_inf_50K = df[df['salaire'] == '<=50K'].groupby('race').size() / \\\n",
    "                   df.groupby('race').size() * 100\n",
    "    \n",
    "    # Calcul des proportions pour salaires >50K\n",
    "    race_sup_50K = df[df['salaire'] == '>50K'].groupby('race').size() / \\\n",
    "                   df.groupby('race').size() * 100\n",
    "    \n",
    "    # Identifier les races avec proportions maximales\n",
    "    race_max_inf_50k = race_inf_50K.idxmax()\n",
    "    race_max_sup_50k = race_sup_50K.idxmax()\n",
    "    \n",
    "    # Affichage des résultats\n",
    "    print(f\"Race avec la proportion la plus élevée de salaires ≤50K (échantillon) : \"\n",
    "          f\"{race_max_inf_50k} ({race_inf_50K[race_max_inf_50k]:.2f}%)\")\n",
    "    print(f\"Race avec la proportion la plus élevée de salaires >50K (échantillon) : \"\n",
    "          f\"{race_max_sup_50k} ({race_sup_50K[race_max_sup_50k]:.2f}%)\")\n",
    "\n",
    "analyser_proportions_race(df_echantillon)"
   ]
  },
  {
   "cell_type": "code",
   "execution_count": 22,
   "id": "65021eaf-0984-4a5c-898e-8dafb196b733",
   "metadata": {},
   "outputs": [
    {
     "name": "stdout",
     "output_type": "stream",
     "text": [
      "Race avec la proportion la plus élevée de salaires ≤50K (échantillon) : Autre (52.94%)\n",
      "Race avec la proportion la plus élevée de salaires >50K (échantillon) : Asiatique (73.15%)\n"
     ]
    }
   ],
   "source": [
    "race_inf_50K = df_echantillon[df_echantillon['salaire'] == '<=50K'].groupby('race').size() / df_echantillon.groupby('race').size() * 100\n",
    "\n",
    "race_sup_50K = df_echantillon[df_echantillon['salaire'] == '>50K'].groupby('race').size() / df_echantillon.groupby('race').size() * 100\n",
    "\n",
    "race_max_inf_50k = race_inf_50K.idxmax()\n",
    "race_max_sup_50k = race_sup_50K.idxmax()\n",
    "\n",
    "print(f\"Race avec la proportion la plus élevée de salaires ≤50K (échantillon) : {race_max_inf_50k} ({race_inf_50K[race_max_inf_50k]:.2f}%)\")\n",
    "print(f\"Race avec la proportion la plus élevée de salaires >50K (échantillon) : {race_max_sup_50k} ({race_sup_50K[race_max_sup_50k]:.2f}%)\")\n"
   ]
  },
  {
   "cell_type": "markdown",
   "id": "d26f3685-1d69-4a4c-9f70-f908a1477e21",
   "metadata": {},
   "source": [
    "# 7. Existe-t-il une différence dans les salaires des hommes mariées et les hommes ne vivant pas en famille ? Dans quel sens va-t-elle ?"
   ]
  },
  {
   "cell_type": "code",
   "execution_count": 23,
   "id": "2190d2e2-ffe1-495d-a014-cba052c737ab",
   "metadata": {
    "scrolled": true
   },
   "outputs": [
    {
     "name": "stdout",
     "output_type": "stream",
     "text": [
      "Hommes mariés :\n",
      "Proportion de salaires ≤50K : 16.28 %\n",
      "Proportion de salaires >50K : 83.72 %\n",
      "\n",
      "Hommes ne vivant pas en famille :\n",
      "Proportion de salaires ≤50K : 48.35 %\n",
      "Proportion de salaires >50K : 51.65 %\n"
     ]
    }
   ],
   "source": [
    "# Filtrer les données pour les hommes uniquement\n",
    "men_df_echantillon = df_echantillon[df_echantillon['sexe'] == 'Masculin']\n",
    "\n",
    "# Séparer les hommes mariés et ceux ne vivant pas en famille\n",
    "marie_homme = men_df_echantillon[men_df_echantillon['etat_civil'].str.contains('Marie', na=False)]\n",
    "pas_famile_homme = men_df_echantillon[men_df_echantillon['Lien_parente'] == 'Pas_dans_famille']\n",
    "\n",
    "# Calculer la répartition des salaires pour chaque groupe\n",
    "salaire_marie_distribution = marie_homme['salaire'].value_counts(normalize=True) * 100\n",
    "salaire_non_famille = pas_famile_homme['salaire'].value_counts(normalize=True) * 100\n",
    "\n",
    "# Afficher les résultats\n",
    "print(\"Hommes mariés :\")\n",
    "print(f\"Proportion de salaires ≤50K : {salaire_marie_distribution.get('<=50K', 0):.2f} %\")\n",
    "print(f\"Proportion de salaires >50K : {salaire_marie_distribution.get('>50K', 0):.2f} %\\n\")\n",
    "\n",
    "print(\"Hommes ne vivant pas en famille :\")\n",
    "print(f\"Proportion de salaires ≤50K : {salaire_non_famille.get('<=50K', 0):.2f} %\")\n",
    "print(f\"Proportion de salaires >50K : {salaire_non_famille.get('>50K', 0):.2f} %\")\n"
   ]
  },
  {
   "cell_type": "markdown",
   "id": "a56ba121-f503-4e85-b355-92497634a359",
   "metadata": {},
   "source": [
    "**Les hommes mariés ont une proportion beaucoup plus élevée de salaires >50K par rapport aux hommes ne vivant pas en famille. Cela indique que les hommes mariés tendent à avoir des salaires plus élevés que leurs homologues ne vivant pas en famille.**"
   ]
  },
  {
   "cell_type": "code",
   "execution_count": 24,
   "id": "5315ba13-0437-494f-bd7e-ec18ddf5d5a6",
   "metadata": {},
   "outputs": [
    {
     "name": "stdout",
     "output_type": "stream",
     "text": [
      "Le salaire de Marie est: nan\n",
      "Le salaire de celibataires est: 0.13383838383838384\n"
     ]
    },
    {
     "data": {
      "text/plain": [
       "{'salaires_maries': nan,\n",
       " 'salaires_celibataires': 0.13383838383838384,\n",
       " 'difference': nan}"
      ]
     },
     "execution_count": 24,
     "metadata": {},
     "output_type": "execute_result"
    }
   ],
   "source": [
    "# Question 7 : Différence de salaires hommes mariés vs célibataires\n",
    "def analyse_salaires_hommes():\n",
    "    hommes = df[df[\"sexe\"] == \"Masculin\"]\n",
    "    hommes_maries = hommes[hommes[\"etat_civil\"].isin([\"Marie\"])]\n",
    "    hommes_celibataires = hommes[hommes[\"Lien_parente\"] == \"Celibataire\"]\n",
    "\n",
    "    salaires_maries = (hommes_maries[\"salaire\"] == \">50K\").mean()\n",
    "    salaires_celibataires = (hommes_celibataires[\"salaire\"] == \">50K\").mean()\n",
    "    print(f\"Le salaire de Marie est: {salaires_maries}\")\n",
    "    print(f\"Le salaire de celibataires est: {salaires_celibataires}\")\n",
    "\n",
    "    return {\n",
    "        \"salaires_maries\": salaires_maries,\n",
    "        \"salaires_celibataires\": salaires_celibataires,\n",
    "        \"difference\": salaires_maries - salaires_celibataires,\n",
    "    }\n",
    "\n",
    "\n",
    "analyse_salaires_hommes()"
   ]
  },
  {
   "cell_type": "markdown",
   "id": "76d9e474-e800-4406-9421-616d695a5029",
   "metadata": {},
   "source": [
    "# 8. Quelle est la variance des âges dans notre jeu de données complet ? Quelle est sa valeur pour l’échantillon ?"
   ]
  },
  {
   "cell_type": "code",
   "execution_count": 25,
   "id": "dff0e220-f44d-45dc-8ab9-ca70931f9b2f",
   "metadata": {},
   "outputs": [
    {
     "name": "stdout",
     "output_type": "stream",
     "text": [
      "8. Variance des âges:\n",
      "   Variance des âges de notre jeu de données complet : 186.06\n",
      "   Variance de l'échantillon des âges de notre jeu de données : 149.91\n"
     ]
    }
   ],
   "source": [
    "# variance de donnees compet\n",
    "variance_age_complete = df[\"age\"].var()\n",
    "\n",
    "# variance de l'echantillon\n",
    "variance_df_echantillon = df_echantillon[\"age\"].var()\n",
    "\n",
    "print(\"8. Variance des âges:\")\n",
    "print(\n",
    "    f\"   Variance des âges de notre jeu de données complet : {variance_age_complete:.2f}\"\n",
    ")\n",
    "print(\n",
    "    f\"   Variance de l'échantillon des âges de notre jeu de données : {variance_df_echantillon:.2f}\"\n",
    ")"
   ]
  },
  {
   "cell_type": "markdown",
   "id": "2df7d46a-d676-46ef-a4f7-332928e1b161",
   "metadata": {},
   "source": [
    "# 9. Parmi les années d’éducation et l'âge, quel attribut a plus d’influence sur la valeur du salaire ? Dit autrement, lequel des deux est plus corrélé avec le salaire ? Pour y répondre, il faudrait coder l’attribut ordinal salaire par de nombres, par ex., ≤50K par 1 et >50K par 2."
   ]
  },
  {
   "cell_type": "code",
   "execution_count": 26,
   "id": "7a21f947-6401-40c0-af09-0756df756aa8",
   "metadata": {
    "scrolled": true
   },
   "outputs": [
    {
     "data": {
      "text/plain": [
       "age                 0.210755\n",
       "education_annees    0.326183\n",
       "salaire_encode      1.000000\n",
       "Name: salaire_encode, dtype: float64"
      ]
     },
     "execution_count": 26,
     "metadata": {},
     "output_type": "execute_result"
    }
   ],
   "source": [
    " # Encoder le salaire (1 pour <=50K, 2 pour >50K)\n",
    " df_echantillon['salaire_encode'] = df_echantillon['salaire'].map({'<=50K': 1, '>50K': 2})\n",
    " \n",
    " # Convertir education en nombres d'années (approximation)\n",
    " education_mapping = {\n",
    "     'Preschool': 1, '1st-4th': 4, '5th-6th': 6, '7th-8th': 8,\n",
    "     '9th': 9, '10th': 10, '11th': 11, '12th': 12, 'HS-grad': 12,\n",
    "     'Some-college': 14, 'Bachelors': 16, 'Masters': 18, 'Doctorate': 21\n",
    " }\n",
    " df_echantillon['education_annees'] = df_echantillon['education'].map(education_mapping)\n",
    " \n",
    " # corr_age = df_echantillon['age'].corr(df_echantillon['salaire_encode'])\n",
    " # corr_education = df_echantillon['education_annees'].corr(df_echantillon['salaire_encode'])\n",
    "\n",
    "# Créer une matrice de corrélation incluant salaire_encode\n",
    "df_echantillon[['age', 'education_annees', 'salaire_encode']].corr()['salaire_encode']\n"
   ]
  },
  {
   "cell_type": "markdown",
   "id": "c57ba7dc-fca8-4a30-9314-c86d9a0ea0ca",
   "metadata": {},
   "source": [
    "les correlation:\n",
    "1. **Âge et salaire (corrélation : 0.210755)**\n",
    "2. **Années d'éducation et salaire (corrélation : 0.326183)** <br>\n",
    "**En conclusion:** Le nombre d'années d'éducation semble jouer un rôle plus important que l'âge dans la détermination des salaires. Cela met en évidence l'importance de l'éducation pour obtenir des revenus plus élevés, bien que l'âge ait également un impact mineur\n"
   ]
  },
  {
   "cell_type": "code",
   "execution_count": 27,
   "id": "dab4cc70-cfe0-4652-9c5d-0aba8fcb12ed",
   "metadata": {},
   "outputs": [
    {
     "data": {
      "text/plain": [
       "age                   0.210755\n",
       "nombre_education      0.345756\n",
       "heures_par_semaine    0.218557\n",
       "salaire_encode        1.000000\n",
       "Name: salaire_encode, dtype: float64"
      ]
     },
     "execution_count": 27,
     "metadata": {},
     "output_type": "execute_result"
    }
   ],
   "source": [
    "df_echantillon.select_dtypes(include='int').corr()['salaire_encode']"
   ]
  },
  {
   "cell_type": "markdown",
   "id": "1365272c-cc10-4162-adbf-895773216be2",
   "metadata": {},
   "source": [
    "# 10. Est-ce que l’âge est un facteur d’influence important pour le salaire des femmes ? Répondez en comparant les ages moyens dans les groupes de femmes à salaires ≤50K et >50K, respectivement."
   ]
  },
  {
   "cell_type": "code",
   "execution_count": 28,
   "id": "5e721b99-b538-4e07-9630-37fa79e8a832",
   "metadata": {},
   "outputs": [
    {
     "name": "stdout",
     "output_type": "stream",
     "text": [
      "Âge moyen des femmes par groupe de salaire :\n",
      "Femmes avec un salaire ≤50K : 38.46 ans\n",
      "Femmes avec un salaire >50K : 43.16 ans\n"
     ]
    }
   ],
   "source": [
    "# Filtrer les données pour les femmes uniquement\n",
    "women_df_echantillon = df_echantillon[df_echantillon['sexe'] == 'Feminin']\n",
    "\n",
    "# Calculer l'âge moyen pour les groupes de salaires\n",
    "average_age_by_salary = women_df_echantillon.groupby('salaire')['age'].mean()\n",
    "\n",
    "# Afficher les résultats\n",
    "print(\"Âge moyen des femmes par groupe de salaire :\")\n",
    "print(f\"Femmes avec un salaire ≤50K : {average_age_by_salary.get('<=50K', 0):.2f} ans\")\n",
    "print(f\"Femmes avec un salaire >50K : {average_age_by_salary.get('>50K', 0):.2f} ans\")\n"
   ]
  },
  {
   "cell_type": "code",
   "execution_count": null,
   "id": "cc22a421-61a3-47b6-9516-7b4f3ecbe1b3",
   "metadata": {},
   "outputs": [],
   "source": []
  },
  {
   "cell_type": "markdown",
   "id": "f2941178-fa63-4ad2-9ab2-cbfaa5104452",
   "metadata": {},
   "source": [
    "# 11. Quelle est la différence entre les écarts types des heures par semaine pour le jeux complet et pour l’échantillon ?"
   ]
  },
  {
   "cell_type": "code",
   "execution_count": 29,
   "id": "4323f402-941c-45f4-b703-d3be1d3d7439",
   "metadata": {},
   "outputs": [
    {
     "name": "stdout",
     "output_type": "stream",
     "text": [
      "les écarts types des heures par semaine pour le jeux complet  : 12.35\n",
      "les écarts types des heures par semaine pour l’échantillon: 11.72\n",
      "La différence entre les écarts types des heures par semaine pour le jeux complet et pour l’échantillon: 0.62\n"
     ]
    }
   ],
   "source": [
    "ecartype_complet = df[\"heures_par_semaine\"].std()\n",
    "\n",
    "ecartype_echantillon = df_echantillon[\"heures_par_semaine\"].std()\n",
    "\n",
    "ecartype_difference = ecartype_complet - ecartype_echantillon\n",
    "\n",
    "print(\n",
    "    f\"les écarts types des heures par semaine pour le jeux complet  : {ecartype_complet:.2f}\"\n",
    ")\n",
    "print(\n",
    "    f\"les écarts types des heures par semaine pour l’échantillon: {ecartype_echantillon:.2f}\"\n",
    ")\n",
    "print(\n",
    "    f\"La différence entre les écarts types des heures par semaine pour le jeux complet et pour l’échantillon: {ecartype_difference:.2f}\"\n",
    ")"
   ]
  },
  {
   "cell_type": "markdown",
   "id": "567dcee1-101e-4318-a397-e645c71f25e1",
   "metadata": {},
   "source": [
    "# 3. Tests d’hypothèses (9 pts)\n",
    "Dans cette partie, nous allons considérer le jeu de données complet comme étant notre « population » et notre\n",
    "attention sera portée sur l’échantillon des 1ers 3256 lignes qui nous servira comme base pour la validation de diverses\n",
    "hypothèses. On assume aussi que l’attribut nombre d’heures par semaine suit une loi normale.\n",
    "1. On émet l’hypothèse que la moyenne des heures par semaine sur le jeu de données complet n’est pas plus élevée\n",
    "que 40 hrs/sem. En vous basant sur l’échantillon, et en utilisant un écart type de la population égal à 12,35 ,\n",
    "testez cette hypothèse à l’aide d’un t-test. Prenez un niveau de signification de 5%.\n",
    "• N.B. Pour des raisons pédagogiques, on ignore la valeur effective de la moyenne pour le jeu complet :\n",
    "ce qu’on veut tester est si la valeur observée sur l’échantillon est suffisamment extrême pour permettre\n",
    "de rejeter l’hypothèse H0 que vous aurez formulée.\n",
    "2. On émet une autre hypothèse : les femmes travaillent, en moyenne, plus d’heures que la moyenne hypothétique\n",
    "de 40 hrs/sem. En vous basant uniquement sur la partie pertinente de l’échantillon, testez cette hypothèse à\n",
    "l’aide d’un t-test. Prenez un niveau de signification de 10%.\n",
    "3. Finalement, existe-t-il un écart significatif (à 5%) entre le salaire moyen de la population et celui des femmes ?\n",
    "Pour y répondre, utilisez le codage suggéré par la question 9. Avec ce codage, l’écart type de la population est\n",
    "arrondi à 0,43."
   ]
  },
  {
   "cell_type": "markdown",
   "id": "a9686e35-4d9c-452b-9745-9503207604cd",
   "metadata": {},
   "source": [
    "# $z= \\frac{\\bar{x} - \\mu_0}{s/\\sqrt{n}}$\n"
   ]
  },
  {
   "cell_type": "code",
   "execution_count": null,
   "id": "fb2f4043-d4fc-4edd-ad57-04d8d71d30af",
   "metadata": {},
   "outputs": [],
   "source": []
  },
  {
   "cell_type": "code",
   "execution_count": 30,
   "id": "da320ecd-a8cb-4683-8979-eb56c49b0c90",
   "metadata": {},
   "outputs": [
    {
     "name": "stdout",
     "output_type": "stream",
     "text": [
      "\n",
      "=== Tests d'Hypothèses ===\n",
      "1. Test d'hypothèse pour moyenne d'heures ≤ 40:\n",
      "Moyenne de l'échantillon: 44.44 heures\n",
      "Statistique t: 20.5149\n",
      "Valeur p: 1.0000\n",
      "Rejet H0 à 5%: False\n",
      "\n",
      "2. Test d'hypothèse pour femmes travaillant > 40 heures:\n",
      "Moyenne des heures (femmes): 39.07\n",
      "Statistique t: -2.1616\n",
      "Valeur p (unilatéral): 1.0000\n",
      "Rejet H0 à 10%: False\n",
      "\n",
      "3. Test de différence de salaire pour les femmes:\n",
      "Moyenne population: 1.2408\n",
      "Moyenne femmes: 1.5135\n",
      "Statistique t: 16.8151\n",
      "Valeur p: 0.0000\n",
      "Différence significative à 5%: True\n"
     ]
    }
   ],
   "source": [
    "from scipy import stats\n",
    "\n",
    "def tests_hypotheses(df, df_echantillon):\n",
    "    try:\n",
    "        # 1. Test si moyenne d'heures par semaine ≤ 40\n",
    "        ecart_type_pop = 12.35\n",
    "        moyenne_echantillon = df_echantillon['heures_par_semaine'].mean()\n",
    "        n = len(df_echantillon)\n",
    "        \n",
    "        stat_t = (moyenne_echantillon - 40) / (ecart_type_pop / np.sqrt(n))\n",
    "        valeur_p = stats.norm.cdf(stat_t)\n",
    "        \n",
    "        print(\"1. Test d'hypothèse pour moyenne d'heures ≤ 40:\")\n",
    "        print(f\"Moyenne de l'échantillon: {moyenne_echantillon:.2f} heures\")\n",
    "        print(f\"Statistique t: {stat_t:.4f}\")\n",
    "        print(f\"Valeur p: {valeur_p:.4f}\")\n",
    "        print(f\"Rejet H0 à 5%: {valeur_p < 0.05}\")\n",
    "        \n",
    "        # 2. Test si les femmes travaillent plus de 40 heures en moyenne\n",
    "        heures_femmes = df_echantillon[df_echantillon['sexe'] == 'Feminin']['heures_par_semaine']\n",
    "        if len(heures_femmes) == 0:\n",
    "            print(\"\\nAvertissement: Aucune donnée pour les femmes dans l'échantillon\")\n",
    "        else:\n",
    "            stat_t, valeur_p = stats.ttest_1samp(heures_femmes, 40)\n",
    "            valeur_p_unilateral = valeur_p / 2 if stat_t > 0 else 1.0\n",
    "            \n",
    "            print(\"\\n2. Test d'hypothèse pour femmes travaillant > 40 heures:\")\n",
    "            print(f\"Moyenne des heures (femmes): {heures_femmes.mean():.2f}\")\n",
    "            print(f\"Statistique t: {stat_t:.4f}\")\n",
    "            print(f\"Valeur p (unilatéral): {valeur_p_unilateral:.4f}\")\n",
    "            print(f\"Rejet H0 à 10%: {valeur_p_unilateral < 0.10}\")\n",
    "        \n",
    "        # 3. Test de différence de salaire entre population et femmes\n",
    "        ecart_type_pop = 0.43\n",
    "        df_echantillon['salaire_code'] = df_echantillon['salaire'].map({'<=50K': 1, '>50K': 2})\n",
    "        if df_echantillon['salaire_code'].isnull().any():\n",
    "            raise ValueError(\"Valeurs inattendues dans la colonne 'salaire'\")\n",
    "        \n",
    "        df['salaire_code'] = df['salaire'].map({'<=50K': 1, '>50K': 2})\n",
    "        echantillon_femmes = df_echantillon[df_echantillon['sexe'] == 'Feminin']['salaire_code']\n",
    "        \n",
    "        if len(echantillon_femmes) == 0:\n",
    "            print(\"\\nAvertissement: Aucune donnée salariale pour les femmes\")\n",
    "        else:\n",
    "            moyenne_pop = df['salaire_code'].mean()\n",
    "            moyenne_femmes = echantillon_femmes.mean()\n",
    "            \n",
    "            stat_t = (moyenne_femmes - moyenne_pop) / (ecart_type_pop / np.sqrt(len(echantillon_femmes)))\n",
    "            valeur_p = 2 * (1 - stats.norm.cdf(abs(stat_t)))\n",
    "            \n",
    "            print(\"\\n3. Test de différence de salaire pour les femmes:\")\n",
    "            print(f\"Moyenne population: {moyenne_pop:.4f}\")\n",
    "            print(f\"Moyenne femmes: {moyenne_femmes:.4f}\")\n",
    "            print(f\"Statistique t: {stat_t:.4f}\")\n",
    "            print(f\"Valeur p: {valeur_p:.4f}\")\n",
    "            print(f\"Différence significative à 5%: {valeur_p < 0.05}\")\n",
    "            \n",
    "    except Exception as e:\n",
    "        print(f\"Erreur lors des tests d'hypothèses: {str(e)}\")\n",
    "\n",
    "def main():\n",
    "    try:\n",
    "        print(\"\\n=== Tests d'Hypothèses ===\")\n",
    "        tests_hypotheses(df, df_echantillon)\n",
    "    except Exception as e:\n",
    "        print(f\"Erreur dans le programme principal: {str(e)}\")\n",
    "\n",
    "if __name__ == \"__main__\":\n",
    "    main()\n"
   ]
  },
  {
   "cell_type": "code",
   "execution_count": 31,
   "id": "90cade10-518c-493b-9597-c85600d7a984",
   "metadata": {},
   "outputs": [],
   "source": [
    "# Second code working"
   ]
  },
  {
   "cell_type": "code",
   "execution_count": 32,
   "id": "ef531b92-3569-4320-8d03-7d6701bc086f",
   "metadata": {
    "scrolled": true
   },
   "outputs": [
    {
     "name": "stdout",
     "output_type": "stream",
     "text": [
      "\n",
      "=== Tests d'Hypothèses ===\n",
      "20.51488209610187\n",
      "1. Test d'hypothèse pour moyenne d'heures ≤ 40:\n",
      "Moyenne de l'échantillon: 44.44 heures\n",
      "Statistique t: 20.5149\n",
      "Valeur p: 1.0000\n",
      "Rejet H0 à 5%: False\n",
      "\n",
      "2. Test d'hypothèse pour femmes travaillant > 40 heures:\n",
      "Moyenne des heures (femmes): 39.07\n",
      "Statistique t: -2.1616\n",
      "Valeur p (unilatéral): 0.0155\n",
      "Rejet H0 à 10%: True\n",
      "\n",
      "3. Test de différence de salaire pour les femmes:\n",
      "Moyenne population: 1.2408\n",
      "Moyenne femmes: 1.5135\n",
      "Statistique t: 16.8151\n",
      "Valeur p: 0.0000\n",
      "Différence significative à 5%: True\n"
     ]
    }
   ],
   "source": [
    "def tests_hypotheses(df, df_echantillon):\n",
    "    \n",
    "    try:\n",
    "        # 1. Test si moyenne d'heures par semaine ≤ 40\n",
    "        ecart_type_pop = 12.35\n",
    "        moyenne_echantillon = df_echantillon['heures_par_semaine'].mean()\n",
    "        n = len(df_echantillon)\n",
    "        \n",
    "        # Calcul de la statistique t\n",
    "        stat_t = (moyenne_echantillon - 40) / (ecart_type_pop / np.sqrt(n))\n",
    "        print(stat_t)\n",
    "        # Pour un test unilatéral à gauche\n",
    "        valeur_p = stats.norm.cdf(stat_t)\n",
    "        \n",
    "        print(\"1. Test d'hypothèse pour moyenne d'heures ≤ 40:\")\n",
    "        print(f\"Moyenne de l'échantillon: {moyenne_echantillon:.2f} heures\")\n",
    "        print(f\"Statistique t: {stat_t:.4f}\")\n",
    "        print(f\"Valeur p: {valeur_p:.4f}\")\n",
    "        print(f\"Rejet H0 à 5%: {valeur_p < 0.05}\")\n",
    "        \n",
    "        # 2. Test si les femmes travaillent plus de 40 heures en moyenne\n",
    "        heures_femmes = df_echantillon[df_echantillon['sexe'] == 'Feminin']['heures_par_semaine']\n",
    "        if len(heures_femmes) == 0:\n",
    "            print(\"\\nAvertissement: Aucune donnée pour les femmes dans l'échantillon\")\n",
    "        else:\n",
    "            stat_t, valeur_p = stats.ttest_1samp(heures_femmes, 40)\n",
    "            \n",
    "            print(\"\\n2. Test d'hypothèse pour femmes travaillant > 40 heures:\")\n",
    "            print(f\"Moyenne des heures (femmes): {heures_femmes.mean():.2f}\")\n",
    "            print(f\"Statistique t: {stat_t:.4f}\")\n",
    "            print(f\"Valeur p (unilatéral): {valeur_p/2:.4f}\")\n",
    "            print(f\"Rejet H0 à 10%: {valeur_p/2 < 0.10}\")\n",
    "        \n",
    "        # 3. Test de différence de salaire entre population et femmes\n",
    "        ecart_type_pop = 0.43\n",
    "        \n",
    "        # Codage salaire (≤50K: 1, >50K: 2)\n",
    "        df_echantillon['salaire_code'] = df_echantillon['salaire'].map({'<=50K': 1, '>50K': 2})\n",
    "        df['salaire_code'] = df['salaire'].map({'<=50K': 1, '>50K': 2})\n",
    "        echantillon_femmes = df_echantillon[df_echantillon['sexe'] == 'Feminin']['salaire_code']\n",
    "        \n",
    "        if len(echantillon_femmes) == 0:\n",
    "            print(\"\\nAvertissement: Aucune donnée salariale pour les femmes\")\n",
    "        else:\n",
    "            moyenne_pop = df['salaire_code'].mean()\n",
    "            moyenne_femmes = echantillon_femmes.mean()\n",
    "            \n",
    "            stat_t = (moyenne_femmes - moyenne_pop) / (ecart_type_pop / np.sqrt(len(echantillon_femmes)))\n",
    "            valeur_p = 2 * (1 - stats.norm.cdf(abs(stat_t)))\n",
    "            \n",
    "            print(\"\\n3. Test de différence de salaire pour les femmes:\")\n",
    "            print(f\"Moyenne population: {moyenne_pop:.4f}\")\n",
    "            print(f\"Moyenne femmes: {moyenne_femmes:.4f}\")\n",
    "            print(f\"Statistique t: {stat_t:.4f}\")\n",
    "            print(f\"Valeur p: {valeur_p:.4f}\")\n",
    "            print(f\"Différence significative à 5%: {valeur_p < 0.05}\")\n",
    "            \n",
    "    except Exception as e:\n",
    "        print(f\"Erreur lors des tests d'hypothèses: {str(e)}\")\n",
    "\n",
    "def main():\n",
    "    try:\n",
    "        print(\"\\n=== Tests d'Hypothèses ===\")\n",
    "        tests_hypotheses(df, df_echantillon)\n",
    "    except Exception as e:\n",
    "        print(f\"Erreur dans le programme principal: {str(e)}\")\n",
    "\n",
    "if __name__ == \"__main__\":\n",
    "    main()"
   ]
  }
 ],
 "metadata": {
  "kernelspec": {
   "display_name": "Python 3 (ipykernel)",
   "language": "python",
   "name": "python3"
  },
  "language_info": {
   "codemirror_mode": {
    "name": "ipython",
    "version": 3
   },
   "file_extension": ".py",
   "mimetype": "text/x-python",
   "name": "python",
   "nbconvert_exporter": "python",
   "pygments_lexer": "ipython3",
   "version": "3.12.4"
  }
 },
 "nbformat": 4,
 "nbformat_minor": 5
}
